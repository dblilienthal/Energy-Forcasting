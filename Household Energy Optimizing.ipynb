{
 "cells": [
  {
   "cell_type": "code",
   "execution_count": 1,
   "id": "c5c81301-b5c8-438f-9cc9-d599dcb367ae",
   "metadata": {},
   "outputs": [],
   "source": [
    "import optuna\n",
    "import pandas as pd\n",
    "import numpy as np\n",
    "optuna.logging.set_verbosity(optuna.logging.WARNING)\n",
    "import plotly\n",
    "import plotly.io as pio\n",
    "pio.renderers.default = \"iframe\""
   ]
  },
  {
   "cell_type": "markdown",
   "id": "bd2ff393-ed40-40c2-a5a7-d3febb24e6d4",
   "metadata": {},
   "source": [
    "**Loading the days dataset**"
   ]
  },
  {
   "cell_type": "code",
   "execution_count": 2,
   "id": "8ce452c6-f131-4660-9876-1d13a124594d",
   "metadata": {},
   "outputs": [
    {
     "data": {
      "text/html": [
       "<div>\n",
       "<style scoped>\n",
       "    .dataframe tbody tr th:only-of-type {\n",
       "        vertical-align: middle;\n",
       "    }\n",
       "\n",
       "    .dataframe tbody tr th {\n",
       "        vertical-align: top;\n",
       "    }\n",
       "\n",
       "    .dataframe thead th {\n",
       "        text-align: right;\n",
       "    }\n",
       "</style>\n",
       "<table border=\"1\" class=\"dataframe\">\n",
       "  <thead>\n",
       "    <tr style=\"text-align: right;\">\n",
       "      <th></th>\n",
       "      <th>TIMESTAMP</th>\n",
       "      <th>USAGE</th>\n",
       "      <th>COST</th>\n",
       "    </tr>\n",
       "  </thead>\n",
       "  <tbody>\n",
       "    <tr>\n",
       "      <th>0</th>\n",
       "      <td>2016-10-22</td>\n",
       "      <td>4.52</td>\n",
       "      <td>0.60</td>\n",
       "    </tr>\n",
       "    <tr>\n",
       "      <th>1</th>\n",
       "      <td>2016-10-23</td>\n",
       "      <td>23.32</td>\n",
       "      <td>4.36</td>\n",
       "    </tr>\n",
       "    <tr>\n",
       "      <th>2</th>\n",
       "      <td>2016-10-24</td>\n",
       "      <td>7.16</td>\n",
       "      <td>1.20</td>\n",
       "    </tr>\n",
       "    <tr>\n",
       "      <th>3</th>\n",
       "      <td>2016-10-25</td>\n",
       "      <td>8.68</td>\n",
       "      <td>1.60</td>\n",
       "    </tr>\n",
       "    <tr>\n",
       "      <th>4</th>\n",
       "      <td>2016-10-26</td>\n",
       "      <td>5.04</td>\n",
       "      <td>0.84</td>\n",
       "    </tr>\n",
       "  </tbody>\n",
       "</table>\n",
       "</div>"
      ],
      "text/plain": [
       "    TIMESTAMP  USAGE  COST\n",
       "0  2016-10-22   4.52  0.60\n",
       "1  2016-10-23  23.32  4.36\n",
       "2  2016-10-24   7.16  1.20\n",
       "3  2016-10-25   8.68  1.60\n",
       "4  2016-10-26   5.04  0.84"
      ]
     },
     "execution_count": 2,
     "metadata": {},
     "output_type": "execute_result"
    }
   ],
   "source": [
    "df = pd.read_csv('../house-hold-energy-data/days.csv')\n",
    "df.head()"
   ]
  },
  {
   "cell_type": "markdown",
   "id": "57c21496-595c-4e86-aa02-70f70497feb5",
   "metadata": {},
   "source": [
    "*Convert the datetime column*"
   ]
  },
  {
   "cell_type": "code",
   "execution_count": 3,
   "id": "f547095d-9c63-45b1-a73d-f1dde472fe07",
   "metadata": {},
   "outputs": [
    {
     "data": {
      "text/html": [
       "<div>\n",
       "<style scoped>\n",
       "    .dataframe tbody tr th:only-of-type {\n",
       "        vertical-align: middle;\n",
       "    }\n",
       "\n",
       "    .dataframe tbody tr th {\n",
       "        vertical-align: top;\n",
       "    }\n",
       "\n",
       "    .dataframe thead th {\n",
       "        text-align: right;\n",
       "    }\n",
       "</style>\n",
       "<table border=\"1\" class=\"dataframe\">\n",
       "  <thead>\n",
       "    <tr style=\"text-align: right;\">\n",
       "      <th></th>\n",
       "      <th>USAGE</th>\n",
       "      <th>COST</th>\n",
       "    </tr>\n",
       "    <tr>\n",
       "      <th>TIMESTAMP</th>\n",
       "      <th></th>\n",
       "      <th></th>\n",
       "    </tr>\n",
       "  </thead>\n",
       "  <tbody>\n",
       "    <tr>\n",
       "      <th>2016-10-22</th>\n",
       "      <td>4.52</td>\n",
       "      <td>0.60</td>\n",
       "    </tr>\n",
       "    <tr>\n",
       "      <th>2016-10-23</th>\n",
       "      <td>23.32</td>\n",
       "      <td>4.36</td>\n",
       "    </tr>\n",
       "    <tr>\n",
       "      <th>2016-10-24</th>\n",
       "      <td>7.16</td>\n",
       "      <td>1.20</td>\n",
       "    </tr>\n",
       "    <tr>\n",
       "      <th>2016-10-25</th>\n",
       "      <td>8.68</td>\n",
       "      <td>1.60</td>\n",
       "    </tr>\n",
       "    <tr>\n",
       "      <th>2016-10-26</th>\n",
       "      <td>5.04</td>\n",
       "      <td>0.84</td>\n",
       "    </tr>\n",
       "  </tbody>\n",
       "</table>\n",
       "</div>"
      ],
      "text/plain": [
       "            USAGE  COST\n",
       "TIMESTAMP              \n",
       "2016-10-22   4.52  0.60\n",
       "2016-10-23  23.32  4.36\n",
       "2016-10-24   7.16  1.20\n",
       "2016-10-25   8.68  1.60\n",
       "2016-10-26   5.04  0.84"
      ]
     },
     "execution_count": 3,
     "metadata": {},
     "output_type": "execute_result"
    }
   ],
   "source": [
    "df['TIMESTAMP'] = pd.to_datetime(df['TIMESTAMP'])\n",
    "df.set_index('TIMESTAMP', inplace=True)\n",
    "df.head()"
   ]
  },
  {
   "cell_type": "code",
   "execution_count": 4,
   "id": "fd9d366e-58c4-49ed-a931-cd309bbaf2c7",
   "metadata": {},
   "outputs": [
    {
     "name": "stdout",
     "output_type": "stream",
     "text": [
      "<class 'pandas.core.frame.DataFrame'>\n",
      "DatetimeIndex: 733 entries, 2016-10-22 to 2018-10-24\n",
      "Data columns (total 2 columns):\n",
      " #   Column  Non-Null Count  Dtype  \n",
      "---  ------  --------------  -----  \n",
      " 0   USAGE   733 non-null    float64\n",
      " 1   COST    733 non-null    float64\n",
      "dtypes: float64(2)\n",
      "memory usage: 17.2 KB\n"
     ]
    }
   ],
   "source": [
    "df.info()"
   ]
  },
  {
   "cell_type": "markdown",
   "id": "638d34ff-4af0-485e-9929-e26c809ff6da",
   "metadata": {},
   "source": [
    "### Pre-processing "
   ]
  },
  {
   "cell_type": "markdown",
   "id": "04eb4d6e-c82f-4548-b773-7cf47ec026ac",
   "metadata": {},
   "source": [
    "Pre-processing steps:\n",
    "1. Get the training, testing, and validation set sizes\n",
    "    - The size of those sets includes the 30 days worth of lag"
   ]
  },
  {
   "cell_type": "markdown",
   "id": "758db889-e004-4b9c-8147-fcf7d74c569a",
   "metadata": {},
   "source": [
    "**Generating 30 days worth of usage lag**"
   ]
  },
  {
   "cell_type": "code",
   "execution_count": 5,
   "id": "08757dd2-3ecc-45ce-91fd-d509f4c5be49",
   "metadata": {},
   "outputs": [],
   "source": [
    "def generated_lagged_features(df, feature, max_lag):\n",
    "    for t in range(1, max_lag + 1):\n",
    "        df[feature + \"_lag\" + str(t)] = df[feature].shift(t)"
   ]
  },
  {
   "cell_type": "code",
   "execution_count": 6,
   "id": "10aa941b-a30a-4035-8032-fdeb2b94f047",
   "metadata": {},
   "outputs": [
    {
     "data": {
      "text/html": [
       "<div>\n",
       "<style scoped>\n",
       "    .dataframe tbody tr th:only-of-type {\n",
       "        vertical-align: middle;\n",
       "    }\n",
       "\n",
       "    .dataframe tbody tr th {\n",
       "        vertical-align: top;\n",
       "    }\n",
       "\n",
       "    .dataframe thead th {\n",
       "        text-align: right;\n",
       "    }\n",
       "</style>\n",
       "<table border=\"1\" class=\"dataframe\">\n",
       "  <thead>\n",
       "    <tr style=\"text-align: right;\">\n",
       "      <th></th>\n",
       "      <th>USAGE</th>\n",
       "      <th>COST</th>\n",
       "      <th>USAGE_lag1</th>\n",
       "      <th>USAGE_lag2</th>\n",
       "      <th>USAGE_lag3</th>\n",
       "      <th>USAGE_lag4</th>\n",
       "      <th>USAGE_lag5</th>\n",
       "      <th>USAGE_lag6</th>\n",
       "      <th>USAGE_lag7</th>\n",
       "      <th>USAGE_lag8</th>\n",
       "      <th>...</th>\n",
       "      <th>USAGE_lag21</th>\n",
       "      <th>USAGE_lag22</th>\n",
       "      <th>USAGE_lag23</th>\n",
       "      <th>USAGE_lag24</th>\n",
       "      <th>USAGE_lag25</th>\n",
       "      <th>USAGE_lag26</th>\n",
       "      <th>USAGE_lag27</th>\n",
       "      <th>USAGE_lag28</th>\n",
       "      <th>USAGE_lag29</th>\n",
       "      <th>USAGE_lag30</th>\n",
       "    </tr>\n",
       "    <tr>\n",
       "      <th>TIMESTAMP</th>\n",
       "      <th></th>\n",
       "      <th></th>\n",
       "      <th></th>\n",
       "      <th></th>\n",
       "      <th></th>\n",
       "      <th></th>\n",
       "      <th></th>\n",
       "      <th></th>\n",
       "      <th></th>\n",
       "      <th></th>\n",
       "      <th></th>\n",
       "      <th></th>\n",
       "      <th></th>\n",
       "      <th></th>\n",
       "      <th></th>\n",
       "      <th></th>\n",
       "      <th></th>\n",
       "      <th></th>\n",
       "      <th></th>\n",
       "      <th></th>\n",
       "      <th></th>\n",
       "    </tr>\n",
       "  </thead>\n",
       "  <tbody>\n",
       "    <tr>\n",
       "      <th>2016-10-22</th>\n",
       "      <td>4.52</td>\n",
       "      <td>0.60</td>\n",
       "      <td>NaN</td>\n",
       "      <td>NaN</td>\n",
       "      <td>NaN</td>\n",
       "      <td>NaN</td>\n",
       "      <td>NaN</td>\n",
       "      <td>NaN</td>\n",
       "      <td>NaN</td>\n",
       "      <td>NaN</td>\n",
       "      <td>...</td>\n",
       "      <td>NaN</td>\n",
       "      <td>NaN</td>\n",
       "      <td>NaN</td>\n",
       "      <td>NaN</td>\n",
       "      <td>NaN</td>\n",
       "      <td>NaN</td>\n",
       "      <td>NaN</td>\n",
       "      <td>NaN</td>\n",
       "      <td>NaN</td>\n",
       "      <td>NaN</td>\n",
       "    </tr>\n",
       "    <tr>\n",
       "      <th>2016-10-23</th>\n",
       "      <td>23.32</td>\n",
       "      <td>4.36</td>\n",
       "      <td>4.52</td>\n",
       "      <td>NaN</td>\n",
       "      <td>NaN</td>\n",
       "      <td>NaN</td>\n",
       "      <td>NaN</td>\n",
       "      <td>NaN</td>\n",
       "      <td>NaN</td>\n",
       "      <td>NaN</td>\n",
       "      <td>...</td>\n",
       "      <td>NaN</td>\n",
       "      <td>NaN</td>\n",
       "      <td>NaN</td>\n",
       "      <td>NaN</td>\n",
       "      <td>NaN</td>\n",
       "      <td>NaN</td>\n",
       "      <td>NaN</td>\n",
       "      <td>NaN</td>\n",
       "      <td>NaN</td>\n",
       "      <td>NaN</td>\n",
       "    </tr>\n",
       "    <tr>\n",
       "      <th>2016-10-24</th>\n",
       "      <td>7.16</td>\n",
       "      <td>1.20</td>\n",
       "      <td>23.32</td>\n",
       "      <td>4.52</td>\n",
       "      <td>NaN</td>\n",
       "      <td>NaN</td>\n",
       "      <td>NaN</td>\n",
       "      <td>NaN</td>\n",
       "      <td>NaN</td>\n",
       "      <td>NaN</td>\n",
       "      <td>...</td>\n",
       "      <td>NaN</td>\n",
       "      <td>NaN</td>\n",
       "      <td>NaN</td>\n",
       "      <td>NaN</td>\n",
       "      <td>NaN</td>\n",
       "      <td>NaN</td>\n",
       "      <td>NaN</td>\n",
       "      <td>NaN</td>\n",
       "      <td>NaN</td>\n",
       "      <td>NaN</td>\n",
       "    </tr>\n",
       "    <tr>\n",
       "      <th>2016-10-25</th>\n",
       "      <td>8.68</td>\n",
       "      <td>1.60</td>\n",
       "      <td>7.16</td>\n",
       "      <td>23.32</td>\n",
       "      <td>4.52</td>\n",
       "      <td>NaN</td>\n",
       "      <td>NaN</td>\n",
       "      <td>NaN</td>\n",
       "      <td>NaN</td>\n",
       "      <td>NaN</td>\n",
       "      <td>...</td>\n",
       "      <td>NaN</td>\n",
       "      <td>NaN</td>\n",
       "      <td>NaN</td>\n",
       "      <td>NaN</td>\n",
       "      <td>NaN</td>\n",
       "      <td>NaN</td>\n",
       "      <td>NaN</td>\n",
       "      <td>NaN</td>\n",
       "      <td>NaN</td>\n",
       "      <td>NaN</td>\n",
       "    </tr>\n",
       "    <tr>\n",
       "      <th>2016-10-26</th>\n",
       "      <td>5.04</td>\n",
       "      <td>0.84</td>\n",
       "      <td>8.68</td>\n",
       "      <td>7.16</td>\n",
       "      <td>23.32</td>\n",
       "      <td>4.52</td>\n",
       "      <td>NaN</td>\n",
       "      <td>NaN</td>\n",
       "      <td>NaN</td>\n",
       "      <td>NaN</td>\n",
       "      <td>...</td>\n",
       "      <td>NaN</td>\n",
       "      <td>NaN</td>\n",
       "      <td>NaN</td>\n",
       "      <td>NaN</td>\n",
       "      <td>NaN</td>\n",
       "      <td>NaN</td>\n",
       "      <td>NaN</td>\n",
       "      <td>NaN</td>\n",
       "      <td>NaN</td>\n",
       "      <td>NaN</td>\n",
       "    </tr>\n",
       "    <tr>\n",
       "      <th>...</th>\n",
       "      <td>...</td>\n",
       "      <td>...</td>\n",
       "      <td>...</td>\n",
       "      <td>...</td>\n",
       "      <td>...</td>\n",
       "      <td>...</td>\n",
       "      <td>...</td>\n",
       "      <td>...</td>\n",
       "      <td>...</td>\n",
       "      <td>...</td>\n",
       "      <td>...</td>\n",
       "      <td>...</td>\n",
       "      <td>...</td>\n",
       "      <td>...</td>\n",
       "      <td>...</td>\n",
       "      <td>...</td>\n",
       "      <td>...</td>\n",
       "      <td>...</td>\n",
       "      <td>...</td>\n",
       "      <td>...</td>\n",
       "      <td>...</td>\n",
       "    </tr>\n",
       "    <tr>\n",
       "      <th>2018-10-20</th>\n",
       "      <td>8.00</td>\n",
       "      <td>1.68</td>\n",
       "      <td>7.76</td>\n",
       "      <td>4.76</td>\n",
       "      <td>5.88</td>\n",
       "      <td>7.72</td>\n",
       "      <td>6.64</td>\n",
       "      <td>8.40</td>\n",
       "      <td>8.84</td>\n",
       "      <td>8.28</td>\n",
       "      <td>...</td>\n",
       "      <td>8.48</td>\n",
       "      <td>9.52</td>\n",
       "      <td>7.68</td>\n",
       "      <td>6.16</td>\n",
       "      <td>10.80</td>\n",
       "      <td>5.68</td>\n",
       "      <td>9.08</td>\n",
       "      <td>5.88</td>\n",
       "      <td>7.12</td>\n",
       "      <td>7.68</td>\n",
       "    </tr>\n",
       "    <tr>\n",
       "      <th>2018-10-21</th>\n",
       "      <td>1.12</td>\n",
       "      <td>0.16</td>\n",
       "      <td>8.00</td>\n",
       "      <td>7.76</td>\n",
       "      <td>4.76</td>\n",
       "      <td>5.88</td>\n",
       "      <td>7.72</td>\n",
       "      <td>6.64</td>\n",
       "      <td>8.40</td>\n",
       "      <td>8.84</td>\n",
       "      <td>...</td>\n",
       "      <td>10.44</td>\n",
       "      <td>8.48</td>\n",
       "      <td>9.52</td>\n",
       "      <td>7.68</td>\n",
       "      <td>6.16</td>\n",
       "      <td>10.80</td>\n",
       "      <td>5.68</td>\n",
       "      <td>9.08</td>\n",
       "      <td>5.88</td>\n",
       "      <td>7.12</td>\n",
       "    </tr>\n",
       "    <tr>\n",
       "      <th>2018-10-22</th>\n",
       "      <td>0.64</td>\n",
       "      <td>0.04</td>\n",
       "      <td>1.12</td>\n",
       "      <td>8.00</td>\n",
       "      <td>7.76</td>\n",
       "      <td>4.76</td>\n",
       "      <td>5.88</td>\n",
       "      <td>7.72</td>\n",
       "      <td>6.64</td>\n",
       "      <td>8.40</td>\n",
       "      <td>...</td>\n",
       "      <td>12.84</td>\n",
       "      <td>10.44</td>\n",
       "      <td>8.48</td>\n",
       "      <td>9.52</td>\n",
       "      <td>7.68</td>\n",
       "      <td>6.16</td>\n",
       "      <td>10.80</td>\n",
       "      <td>5.68</td>\n",
       "      <td>9.08</td>\n",
       "      <td>5.88</td>\n",
       "    </tr>\n",
       "    <tr>\n",
       "      <th>2018-10-23</th>\n",
       "      <td>1.20</td>\n",
       "      <td>0.00</td>\n",
       "      <td>0.64</td>\n",
       "      <td>1.12</td>\n",
       "      <td>8.00</td>\n",
       "      <td>7.76</td>\n",
       "      <td>4.76</td>\n",
       "      <td>5.88</td>\n",
       "      <td>7.72</td>\n",
       "      <td>6.64</td>\n",
       "      <td>...</td>\n",
       "      <td>7.28</td>\n",
       "      <td>12.84</td>\n",
       "      <td>10.44</td>\n",
       "      <td>8.48</td>\n",
       "      <td>9.52</td>\n",
       "      <td>7.68</td>\n",
       "      <td>6.16</td>\n",
       "      <td>10.80</td>\n",
       "      <td>5.68</td>\n",
       "      <td>9.08</td>\n",
       "    </tr>\n",
       "    <tr>\n",
       "      <th>2018-10-24</th>\n",
       "      <td>1.92</td>\n",
       "      <td>0.28</td>\n",
       "      <td>1.20</td>\n",
       "      <td>0.64</td>\n",
       "      <td>1.12</td>\n",
       "      <td>8.00</td>\n",
       "      <td>7.76</td>\n",
       "      <td>4.76</td>\n",
       "      <td>5.88</td>\n",
       "      <td>7.72</td>\n",
       "      <td>...</td>\n",
       "      <td>7.28</td>\n",
       "      <td>7.28</td>\n",
       "      <td>12.84</td>\n",
       "      <td>10.44</td>\n",
       "      <td>8.48</td>\n",
       "      <td>9.52</td>\n",
       "      <td>7.68</td>\n",
       "      <td>6.16</td>\n",
       "      <td>10.80</td>\n",
       "      <td>5.68</td>\n",
       "    </tr>\n",
       "  </tbody>\n",
       "</table>\n",
       "<p>733 rows × 32 columns</p>\n",
       "</div>"
      ],
      "text/plain": [
       "            USAGE  COST  USAGE_lag1  USAGE_lag2  USAGE_lag3  USAGE_lag4  \\\n",
       "TIMESTAMP                                                                 \n",
       "2016-10-22   4.52  0.60         NaN         NaN         NaN         NaN   \n",
       "2016-10-23  23.32  4.36        4.52         NaN         NaN         NaN   \n",
       "2016-10-24   7.16  1.20       23.32        4.52         NaN         NaN   \n",
       "2016-10-25   8.68  1.60        7.16       23.32        4.52         NaN   \n",
       "2016-10-26   5.04  0.84        8.68        7.16       23.32        4.52   \n",
       "...           ...   ...         ...         ...         ...         ...   \n",
       "2018-10-20   8.00  1.68        7.76        4.76        5.88        7.72   \n",
       "2018-10-21   1.12  0.16        8.00        7.76        4.76        5.88   \n",
       "2018-10-22   0.64  0.04        1.12        8.00        7.76        4.76   \n",
       "2018-10-23   1.20  0.00        0.64        1.12        8.00        7.76   \n",
       "2018-10-24   1.92  0.28        1.20        0.64        1.12        8.00   \n",
       "\n",
       "            USAGE_lag5  USAGE_lag6  USAGE_lag7  USAGE_lag8  ...  USAGE_lag21  \\\n",
       "TIMESTAMP                                                   ...                \n",
       "2016-10-22         NaN         NaN         NaN         NaN  ...          NaN   \n",
       "2016-10-23         NaN         NaN         NaN         NaN  ...          NaN   \n",
       "2016-10-24         NaN         NaN         NaN         NaN  ...          NaN   \n",
       "2016-10-25         NaN         NaN         NaN         NaN  ...          NaN   \n",
       "2016-10-26         NaN         NaN         NaN         NaN  ...          NaN   \n",
       "...                ...         ...         ...         ...  ...          ...   \n",
       "2018-10-20        6.64        8.40        8.84        8.28  ...         8.48   \n",
       "2018-10-21        7.72        6.64        8.40        8.84  ...        10.44   \n",
       "2018-10-22        5.88        7.72        6.64        8.40  ...        12.84   \n",
       "2018-10-23        4.76        5.88        7.72        6.64  ...         7.28   \n",
       "2018-10-24        7.76        4.76        5.88        7.72  ...         7.28   \n",
       "\n",
       "            USAGE_lag22  USAGE_lag23  USAGE_lag24  USAGE_lag25  USAGE_lag26  \\\n",
       "TIMESTAMP                                                                     \n",
       "2016-10-22          NaN          NaN          NaN          NaN          NaN   \n",
       "2016-10-23          NaN          NaN          NaN          NaN          NaN   \n",
       "2016-10-24          NaN          NaN          NaN          NaN          NaN   \n",
       "2016-10-25          NaN          NaN          NaN          NaN          NaN   \n",
       "2016-10-26          NaN          NaN          NaN          NaN          NaN   \n",
       "...                 ...          ...          ...          ...          ...   \n",
       "2018-10-20         9.52         7.68         6.16        10.80         5.68   \n",
       "2018-10-21         8.48         9.52         7.68         6.16        10.80   \n",
       "2018-10-22        10.44         8.48         9.52         7.68         6.16   \n",
       "2018-10-23        12.84        10.44         8.48         9.52         7.68   \n",
       "2018-10-24         7.28        12.84        10.44         8.48         9.52   \n",
       "\n",
       "            USAGE_lag27  USAGE_lag28  USAGE_lag29  USAGE_lag30  \n",
       "TIMESTAMP                                                       \n",
       "2016-10-22          NaN          NaN          NaN          NaN  \n",
       "2016-10-23          NaN          NaN          NaN          NaN  \n",
       "2016-10-24          NaN          NaN          NaN          NaN  \n",
       "2016-10-25          NaN          NaN          NaN          NaN  \n",
       "2016-10-26          NaN          NaN          NaN          NaN  \n",
       "...                 ...          ...          ...          ...  \n",
       "2018-10-20         9.08         5.88         7.12         7.68  \n",
       "2018-10-21         5.68         9.08         5.88         7.12  \n",
       "2018-10-22        10.80         5.68         9.08         5.88  \n",
       "2018-10-23         6.16        10.80         5.68         9.08  \n",
       "2018-10-24         7.68         6.16        10.80         5.68  \n",
       "\n",
       "[733 rows x 32 columns]"
      ]
     },
     "execution_count": 6,
     "metadata": {},
     "output_type": "execute_result"
    }
   ],
   "source": [
    "generated_lagged_features(df, 'USAGE', 30)\n",
    "df"
   ]
  },
  {
   "cell_type": "code",
   "execution_count": 7,
   "id": "17c444b5-6840-47bc-b469-e5b15149d219",
   "metadata": {},
   "outputs": [
    {
     "data": {
      "text/html": [
       "<div>\n",
       "<style scoped>\n",
       "    .dataframe tbody tr th:only-of-type {\n",
       "        vertical-align: middle;\n",
       "    }\n",
       "\n",
       "    .dataframe tbody tr th {\n",
       "        vertical-align: top;\n",
       "    }\n",
       "\n",
       "    .dataframe thead th {\n",
       "        text-align: right;\n",
       "    }\n",
       "</style>\n",
       "<table border=\"1\" class=\"dataframe\">\n",
       "  <thead>\n",
       "    <tr style=\"text-align: right;\">\n",
       "      <th></th>\n",
       "      <th>USAGE</th>\n",
       "      <th>COST</th>\n",
       "      <th>USAGE_lag1</th>\n",
       "      <th>USAGE_lag2</th>\n",
       "      <th>USAGE_lag3</th>\n",
       "      <th>USAGE_lag4</th>\n",
       "      <th>USAGE_lag5</th>\n",
       "      <th>USAGE_lag6</th>\n",
       "      <th>USAGE_lag7</th>\n",
       "      <th>USAGE_lag8</th>\n",
       "      <th>...</th>\n",
       "      <th>USAGE_lag21</th>\n",
       "      <th>USAGE_lag22</th>\n",
       "      <th>USAGE_lag23</th>\n",
       "      <th>USAGE_lag24</th>\n",
       "      <th>USAGE_lag25</th>\n",
       "      <th>USAGE_lag26</th>\n",
       "      <th>USAGE_lag27</th>\n",
       "      <th>USAGE_lag28</th>\n",
       "      <th>USAGE_lag29</th>\n",
       "      <th>USAGE_lag30</th>\n",
       "    </tr>\n",
       "    <tr>\n",
       "      <th>TIMESTAMP</th>\n",
       "      <th></th>\n",
       "      <th></th>\n",
       "      <th></th>\n",
       "      <th></th>\n",
       "      <th></th>\n",
       "      <th></th>\n",
       "      <th></th>\n",
       "      <th></th>\n",
       "      <th></th>\n",
       "      <th></th>\n",
       "      <th></th>\n",
       "      <th></th>\n",
       "      <th></th>\n",
       "      <th></th>\n",
       "      <th></th>\n",
       "      <th></th>\n",
       "      <th></th>\n",
       "      <th></th>\n",
       "      <th></th>\n",
       "      <th></th>\n",
       "      <th></th>\n",
       "    </tr>\n",
       "  </thead>\n",
       "  <tbody>\n",
       "    <tr>\n",
       "      <th>2016-11-21</th>\n",
       "      <td>9.44</td>\n",
       "      <td>1.76</td>\n",
       "      <td>7.00</td>\n",
       "      <td>10.36</td>\n",
       "      <td>17.68</td>\n",
       "      <td>19.04</td>\n",
       "      <td>10.00</td>\n",
       "      <td>5.64</td>\n",
       "      <td>8.44</td>\n",
       "      <td>16.40</td>\n",
       "      <td>...</td>\n",
       "      <td>8.84</td>\n",
       "      <td>7.44</td>\n",
       "      <td>10.64</td>\n",
       "      <td>4.64</td>\n",
       "      <td>5.32</td>\n",
       "      <td>5.04</td>\n",
       "      <td>8.68</td>\n",
       "      <td>7.16</td>\n",
       "      <td>23.32</td>\n",
       "      <td>4.52</td>\n",
       "    </tr>\n",
       "    <tr>\n",
       "      <th>2016-11-22</th>\n",
       "      <td>16.28</td>\n",
       "      <td>2.84</td>\n",
       "      <td>9.44</td>\n",
       "      <td>7.00</td>\n",
       "      <td>10.36</td>\n",
       "      <td>17.68</td>\n",
       "      <td>19.04</td>\n",
       "      <td>10.00</td>\n",
       "      <td>5.64</td>\n",
       "      <td>8.44</td>\n",
       "      <td>...</td>\n",
       "      <td>11.44</td>\n",
       "      <td>8.84</td>\n",
       "      <td>7.44</td>\n",
       "      <td>10.64</td>\n",
       "      <td>4.64</td>\n",
       "      <td>5.32</td>\n",
       "      <td>5.04</td>\n",
       "      <td>8.68</td>\n",
       "      <td>7.16</td>\n",
       "      <td>23.32</td>\n",
       "    </tr>\n",
       "    <tr>\n",
       "      <th>2016-11-23</th>\n",
       "      <td>19.20</td>\n",
       "      <td>3.48</td>\n",
       "      <td>16.28</td>\n",
       "      <td>9.44</td>\n",
       "      <td>7.00</td>\n",
       "      <td>10.36</td>\n",
       "      <td>17.68</td>\n",
       "      <td>19.04</td>\n",
       "      <td>10.00</td>\n",
       "      <td>5.64</td>\n",
       "      <td>...</td>\n",
       "      <td>18.20</td>\n",
       "      <td>11.44</td>\n",
       "      <td>8.84</td>\n",
       "      <td>7.44</td>\n",
       "      <td>10.64</td>\n",
       "      <td>4.64</td>\n",
       "      <td>5.32</td>\n",
       "      <td>5.04</td>\n",
       "      <td>8.68</td>\n",
       "      <td>7.16</td>\n",
       "    </tr>\n",
       "    <tr>\n",
       "      <th>2016-11-24</th>\n",
       "      <td>22.20</td>\n",
       "      <td>4.12</td>\n",
       "      <td>19.20</td>\n",
       "      <td>16.28</td>\n",
       "      <td>9.44</td>\n",
       "      <td>7.00</td>\n",
       "      <td>10.36</td>\n",
       "      <td>17.68</td>\n",
       "      <td>19.04</td>\n",
       "      <td>10.00</td>\n",
       "      <td>...</td>\n",
       "      <td>14.16</td>\n",
       "      <td>18.20</td>\n",
       "      <td>11.44</td>\n",
       "      <td>8.84</td>\n",
       "      <td>7.44</td>\n",
       "      <td>10.64</td>\n",
       "      <td>4.64</td>\n",
       "      <td>5.32</td>\n",
       "      <td>5.04</td>\n",
       "      <td>8.68</td>\n",
       "    </tr>\n",
       "    <tr>\n",
       "      <th>2016-11-25</th>\n",
       "      <td>13.80</td>\n",
       "      <td>2.56</td>\n",
       "      <td>22.20</td>\n",
       "      <td>19.20</td>\n",
       "      <td>16.28</td>\n",
       "      <td>9.44</td>\n",
       "      <td>7.00</td>\n",
       "      <td>10.36</td>\n",
       "      <td>17.68</td>\n",
       "      <td>19.04</td>\n",
       "      <td>...</td>\n",
       "      <td>8.28</td>\n",
       "      <td>14.16</td>\n",
       "      <td>18.20</td>\n",
       "      <td>11.44</td>\n",
       "      <td>8.84</td>\n",
       "      <td>7.44</td>\n",
       "      <td>10.64</td>\n",
       "      <td>4.64</td>\n",
       "      <td>5.32</td>\n",
       "      <td>5.04</td>\n",
       "    </tr>\n",
       "    <tr>\n",
       "      <th>...</th>\n",
       "      <td>...</td>\n",
       "      <td>...</td>\n",
       "      <td>...</td>\n",
       "      <td>...</td>\n",
       "      <td>...</td>\n",
       "      <td>...</td>\n",
       "      <td>...</td>\n",
       "      <td>...</td>\n",
       "      <td>...</td>\n",
       "      <td>...</td>\n",
       "      <td>...</td>\n",
       "      <td>...</td>\n",
       "      <td>...</td>\n",
       "      <td>...</td>\n",
       "      <td>...</td>\n",
       "      <td>...</td>\n",
       "      <td>...</td>\n",
       "      <td>...</td>\n",
       "      <td>...</td>\n",
       "      <td>...</td>\n",
       "      <td>...</td>\n",
       "    </tr>\n",
       "    <tr>\n",
       "      <th>2018-10-20</th>\n",
       "      <td>8.00</td>\n",
       "      <td>1.68</td>\n",
       "      <td>7.76</td>\n",
       "      <td>4.76</td>\n",
       "      <td>5.88</td>\n",
       "      <td>7.72</td>\n",
       "      <td>6.64</td>\n",
       "      <td>8.40</td>\n",
       "      <td>8.84</td>\n",
       "      <td>8.28</td>\n",
       "      <td>...</td>\n",
       "      <td>8.48</td>\n",
       "      <td>9.52</td>\n",
       "      <td>7.68</td>\n",
       "      <td>6.16</td>\n",
       "      <td>10.80</td>\n",
       "      <td>5.68</td>\n",
       "      <td>9.08</td>\n",
       "      <td>5.88</td>\n",
       "      <td>7.12</td>\n",
       "      <td>7.68</td>\n",
       "    </tr>\n",
       "    <tr>\n",
       "      <th>2018-10-21</th>\n",
       "      <td>1.12</td>\n",
       "      <td>0.16</td>\n",
       "      <td>8.00</td>\n",
       "      <td>7.76</td>\n",
       "      <td>4.76</td>\n",
       "      <td>5.88</td>\n",
       "      <td>7.72</td>\n",
       "      <td>6.64</td>\n",
       "      <td>8.40</td>\n",
       "      <td>8.84</td>\n",
       "      <td>...</td>\n",
       "      <td>10.44</td>\n",
       "      <td>8.48</td>\n",
       "      <td>9.52</td>\n",
       "      <td>7.68</td>\n",
       "      <td>6.16</td>\n",
       "      <td>10.80</td>\n",
       "      <td>5.68</td>\n",
       "      <td>9.08</td>\n",
       "      <td>5.88</td>\n",
       "      <td>7.12</td>\n",
       "    </tr>\n",
       "    <tr>\n",
       "      <th>2018-10-22</th>\n",
       "      <td>0.64</td>\n",
       "      <td>0.04</td>\n",
       "      <td>1.12</td>\n",
       "      <td>8.00</td>\n",
       "      <td>7.76</td>\n",
       "      <td>4.76</td>\n",
       "      <td>5.88</td>\n",
       "      <td>7.72</td>\n",
       "      <td>6.64</td>\n",
       "      <td>8.40</td>\n",
       "      <td>...</td>\n",
       "      <td>12.84</td>\n",
       "      <td>10.44</td>\n",
       "      <td>8.48</td>\n",
       "      <td>9.52</td>\n",
       "      <td>7.68</td>\n",
       "      <td>6.16</td>\n",
       "      <td>10.80</td>\n",
       "      <td>5.68</td>\n",
       "      <td>9.08</td>\n",
       "      <td>5.88</td>\n",
       "    </tr>\n",
       "    <tr>\n",
       "      <th>2018-10-23</th>\n",
       "      <td>1.20</td>\n",
       "      <td>0.00</td>\n",
       "      <td>0.64</td>\n",
       "      <td>1.12</td>\n",
       "      <td>8.00</td>\n",
       "      <td>7.76</td>\n",
       "      <td>4.76</td>\n",
       "      <td>5.88</td>\n",
       "      <td>7.72</td>\n",
       "      <td>6.64</td>\n",
       "      <td>...</td>\n",
       "      <td>7.28</td>\n",
       "      <td>12.84</td>\n",
       "      <td>10.44</td>\n",
       "      <td>8.48</td>\n",
       "      <td>9.52</td>\n",
       "      <td>7.68</td>\n",
       "      <td>6.16</td>\n",
       "      <td>10.80</td>\n",
       "      <td>5.68</td>\n",
       "      <td>9.08</td>\n",
       "    </tr>\n",
       "    <tr>\n",
       "      <th>2018-10-24</th>\n",
       "      <td>1.92</td>\n",
       "      <td>0.28</td>\n",
       "      <td>1.20</td>\n",
       "      <td>0.64</td>\n",
       "      <td>1.12</td>\n",
       "      <td>8.00</td>\n",
       "      <td>7.76</td>\n",
       "      <td>4.76</td>\n",
       "      <td>5.88</td>\n",
       "      <td>7.72</td>\n",
       "      <td>...</td>\n",
       "      <td>7.28</td>\n",
       "      <td>7.28</td>\n",
       "      <td>12.84</td>\n",
       "      <td>10.44</td>\n",
       "      <td>8.48</td>\n",
       "      <td>9.52</td>\n",
       "      <td>7.68</td>\n",
       "      <td>6.16</td>\n",
       "      <td>10.80</td>\n",
       "      <td>5.68</td>\n",
       "    </tr>\n",
       "  </tbody>\n",
       "</table>\n",
       "<p>703 rows × 32 columns</p>\n",
       "</div>"
      ],
      "text/plain": [
       "            USAGE  COST  USAGE_lag1  USAGE_lag2  USAGE_lag3  USAGE_lag4  \\\n",
       "TIMESTAMP                                                                 \n",
       "2016-11-21   9.44  1.76        7.00       10.36       17.68       19.04   \n",
       "2016-11-22  16.28  2.84        9.44        7.00       10.36       17.68   \n",
       "2016-11-23  19.20  3.48       16.28        9.44        7.00       10.36   \n",
       "2016-11-24  22.20  4.12       19.20       16.28        9.44        7.00   \n",
       "2016-11-25  13.80  2.56       22.20       19.20       16.28        9.44   \n",
       "...           ...   ...         ...         ...         ...         ...   \n",
       "2018-10-20   8.00  1.68        7.76        4.76        5.88        7.72   \n",
       "2018-10-21   1.12  0.16        8.00        7.76        4.76        5.88   \n",
       "2018-10-22   0.64  0.04        1.12        8.00        7.76        4.76   \n",
       "2018-10-23   1.20  0.00        0.64        1.12        8.00        7.76   \n",
       "2018-10-24   1.92  0.28        1.20        0.64        1.12        8.00   \n",
       "\n",
       "            USAGE_lag5  USAGE_lag6  USAGE_lag7  USAGE_lag8  ...  USAGE_lag21  \\\n",
       "TIMESTAMP                                                   ...                \n",
       "2016-11-21       10.00        5.64        8.44       16.40  ...         8.84   \n",
       "2016-11-22       19.04       10.00        5.64        8.44  ...        11.44   \n",
       "2016-11-23       17.68       19.04       10.00        5.64  ...        18.20   \n",
       "2016-11-24       10.36       17.68       19.04       10.00  ...        14.16   \n",
       "2016-11-25        7.00       10.36       17.68       19.04  ...         8.28   \n",
       "...                ...         ...         ...         ...  ...          ...   \n",
       "2018-10-20        6.64        8.40        8.84        8.28  ...         8.48   \n",
       "2018-10-21        7.72        6.64        8.40        8.84  ...        10.44   \n",
       "2018-10-22        5.88        7.72        6.64        8.40  ...        12.84   \n",
       "2018-10-23        4.76        5.88        7.72        6.64  ...         7.28   \n",
       "2018-10-24        7.76        4.76        5.88        7.72  ...         7.28   \n",
       "\n",
       "            USAGE_lag22  USAGE_lag23  USAGE_lag24  USAGE_lag25  USAGE_lag26  \\\n",
       "TIMESTAMP                                                                     \n",
       "2016-11-21         7.44        10.64         4.64         5.32         5.04   \n",
       "2016-11-22         8.84         7.44        10.64         4.64         5.32   \n",
       "2016-11-23        11.44         8.84         7.44        10.64         4.64   \n",
       "2016-11-24        18.20        11.44         8.84         7.44        10.64   \n",
       "2016-11-25        14.16        18.20        11.44         8.84         7.44   \n",
       "...                 ...          ...          ...          ...          ...   \n",
       "2018-10-20         9.52         7.68         6.16        10.80         5.68   \n",
       "2018-10-21         8.48         9.52         7.68         6.16        10.80   \n",
       "2018-10-22        10.44         8.48         9.52         7.68         6.16   \n",
       "2018-10-23        12.84        10.44         8.48         9.52         7.68   \n",
       "2018-10-24         7.28        12.84        10.44         8.48         9.52   \n",
       "\n",
       "            USAGE_lag27  USAGE_lag28  USAGE_lag29  USAGE_lag30  \n",
       "TIMESTAMP                                                       \n",
       "2016-11-21         8.68         7.16        23.32         4.52  \n",
       "2016-11-22         5.04         8.68         7.16        23.32  \n",
       "2016-11-23         5.32         5.04         8.68         7.16  \n",
       "2016-11-24         4.64         5.32         5.04         8.68  \n",
       "2016-11-25        10.64         4.64         5.32         5.04  \n",
       "...                 ...          ...          ...          ...  \n",
       "2018-10-20         9.08         5.88         7.12         7.68  \n",
       "2018-10-21         5.68         9.08         5.88         7.12  \n",
       "2018-10-22        10.80         5.68         9.08         5.88  \n",
       "2018-10-23         6.16        10.80         5.68         9.08  \n",
       "2018-10-24         7.68         6.16        10.80         5.68  \n",
       "\n",
       "[703 rows x 32 columns]"
      ]
     },
     "execution_count": 7,
     "metadata": {},
     "output_type": "execute_result"
    }
   ],
   "source": [
    "df.dropna(inplace=True)\n",
    "df"
   ]
  },
  {
   "cell_type": "markdown",
   "id": "8a7c393b-24a9-4edb-ba6e-a3bd691f881b",
   "metadata": {},
   "source": [
    "**Getting the training, testing, and validation sizes**"
   ]
  },
  {
   "cell_type": "code",
   "execution_count": 8,
   "id": "1cf7a953-b147-440c-a7c7-cb3da0fff0f0",
   "metadata": {},
   "outputs": [
    {
     "name": "stdout",
     "output_type": "stream",
     "text": [
      "Training Size: 562, Testing Size: 70, Validation Size: 71\n"
     ]
    }
   ],
   "source": [
    "# 80% Training, 10% testing, 10% validation\n",
    "train_size = int(df.shape[0] * 0.8)\n",
    "test_size = int(df.shape[0] * 0.1)\n",
    "valid_size = df.shape[0] - train_size - test_size\n",
    "\n",
    "print(f'Training Size: {train_size}, Testing Size: {test_size}, Validation Size: {valid_size}')\n",
    "\n",
    "df_train = df[:train_size]\n",
    "df_test = df[train_size:train_size + test_size]\n",
    "df_valid = df[train_size + test_size:]"
   ]
  },
  {
   "cell_type": "code",
   "execution_count": 9,
   "id": "2d02c757-8ae3-4b14-9757-f0f0380a867d",
   "metadata": {},
   "outputs": [],
   "source": [
    "### Creating datasets\n",
    "\n",
    "explanatory_cols_mask = np.char.startswith(df.columns.to_numpy().astype(str), 'USAGE') # Mask where 'USAGE' is in the column name\n",
    "explanatory_cols = df.columns[explanatory_cols_mask]\n",
    "response_col = 'COST'\n",
    "\n",
    "X_train = df_train[explanatory_cols]\n",
    "y_train = df_train[response_col].values.reshape(-1,1)\n",
    "X_test = df_test[explanatory_cols]\n",
    "y_test = df_test[response_col].values.reshape(-1,1)\n",
    "X_val = df_valid[explanatory_cols]\n",
    "y_val = df_valid[response_col].values.reshape(-1,1)"
   ]
  },
  {
   "cell_type": "markdown",
   "id": "580f72c1-ea18-4a3e-8c1e-8a4b9edd4d5d",
   "metadata": {},
   "source": [
    "**Scaling the data**"
   ]
  },
  {
   "cell_type": "markdown",
   "id": "cab6cb1d-df21-4ac6-921c-7ce1d3d0fc39",
   "metadata": {},
   "source": [
    "Next, I will scale the data by first creating a scaler object on the original 'USAGE' column and then apply the object to it's lagged features. This way, we stay consistent with the scaling of features"
   ]
  },
  {
   "cell_type": "code",
   "execution_count": 10,
   "id": "d6afb8eb-7bb0-4ffc-bd10-ab13552e8e90",
   "metadata": {},
   "outputs": [],
   "source": [
    "from sklearn.preprocessing import MinMaxScaler, StandardScaler"
   ]
  },
  {
   "cell_type": "code",
   "execution_count": 11,
   "id": "8f78ef9f-0cfa-41bd-9fc5-b05beb293118",
   "metadata": {},
   "outputs": [],
   "source": [
    "### Scalers\n",
    "X_scaler = StandardScaler()\n",
    "y_scaler = StandardScaler()\n",
    "\n",
    "X_scaler.fit(X_train['USAGE'].values.reshape(-1,1))\n",
    "y_scaler.fit(y_train)\n",
    "\n",
    "def scale_features(col):\n",
    "    return X_scaler.transform(col.values.reshape(-1,1)).flatten()\n",
    "\n",
    "def scale_predictor(col):\n",
    "    return y_scaler.transform(col)"
   ]
  },
  {
   "cell_type": "code",
   "execution_count": 12,
   "id": "f2cb47f0-5568-4edb-a42d-99dd45800a6b",
   "metadata": {},
   "outputs": [],
   "source": [
    "def scale_columns(col):\n",
    "    return X_scaler.transform(col.values.reshape(-1,1)).flatten()"
   ]
  },
  {
   "cell_type": "code",
   "execution_count": 13,
   "id": "992ad130-e475-4653-87d1-3c7d10b3d155",
   "metadata": {},
   "outputs": [],
   "source": [
    "X_train_scaled = X_train.apply(scale_features, axis=0)\n",
    "X_test_scaled = X_test.apply(scale_features, axis=0)\n",
    "X_val_scaled = X_val.apply(scale_features, axis=0)"
   ]
  },
  {
   "cell_type": "code",
   "execution_count": 14,
   "id": "16139653-a8d7-448a-863f-ecdf42ac3931",
   "metadata": {},
   "outputs": [
    {
     "data": {
      "text/html": [
       "<div>\n",
       "<style scoped>\n",
       "    .dataframe tbody tr th:only-of-type {\n",
       "        vertical-align: middle;\n",
       "    }\n",
       "\n",
       "    .dataframe tbody tr th {\n",
       "        vertical-align: top;\n",
       "    }\n",
       "\n",
       "    .dataframe thead th {\n",
       "        text-align: right;\n",
       "    }\n",
       "</style>\n",
       "<table border=\"1\" class=\"dataframe\">\n",
       "  <thead>\n",
       "    <tr style=\"text-align: right;\">\n",
       "      <th></th>\n",
       "      <th>USAGE</th>\n",
       "      <th>USAGE_lag1</th>\n",
       "      <th>USAGE_lag2</th>\n",
       "      <th>USAGE_lag3</th>\n",
       "      <th>USAGE_lag4</th>\n",
       "      <th>USAGE_lag5</th>\n",
       "      <th>USAGE_lag6</th>\n",
       "      <th>USAGE_lag7</th>\n",
       "      <th>USAGE_lag8</th>\n",
       "      <th>USAGE_lag9</th>\n",
       "      <th>...</th>\n",
       "      <th>USAGE_lag21</th>\n",
       "      <th>USAGE_lag22</th>\n",
       "      <th>USAGE_lag23</th>\n",
       "      <th>USAGE_lag24</th>\n",
       "      <th>USAGE_lag25</th>\n",
       "      <th>USAGE_lag26</th>\n",
       "      <th>USAGE_lag27</th>\n",
       "      <th>USAGE_lag28</th>\n",
       "      <th>USAGE_lag29</th>\n",
       "      <th>USAGE_lag30</th>\n",
       "    </tr>\n",
       "    <tr>\n",
       "      <th>TIMESTAMP</th>\n",
       "      <th></th>\n",
       "      <th></th>\n",
       "      <th></th>\n",
       "      <th></th>\n",
       "      <th></th>\n",
       "      <th></th>\n",
       "      <th></th>\n",
       "      <th></th>\n",
       "      <th></th>\n",
       "      <th></th>\n",
       "      <th></th>\n",
       "      <th></th>\n",
       "      <th></th>\n",
       "      <th></th>\n",
       "      <th></th>\n",
       "      <th></th>\n",
       "      <th></th>\n",
       "      <th></th>\n",
       "      <th></th>\n",
       "      <th></th>\n",
       "      <th></th>\n",
       "    </tr>\n",
       "  </thead>\n",
       "  <tbody>\n",
       "    <tr>\n",
       "      <th>2016-11-21</th>\n",
       "      <td>-0.392984</td>\n",
       "      <td>-0.714548</td>\n",
       "      <td>-0.271738</td>\n",
       "      <td>0.692955</td>\n",
       "      <td>0.872188</td>\n",
       "      <td>-0.319182</td>\n",
       "      <td>-0.893781</td>\n",
       "      <td>-0.524772</td>\n",
       "      <td>0.524266</td>\n",
       "      <td>-0.282281</td>\n",
       "      <td>...</td>\n",
       "      <td>-0.472057</td>\n",
       "      <td>-0.656561</td>\n",
       "      <td>-0.234837</td>\n",
       "      <td>-1.025570</td>\n",
       "      <td>-0.935953</td>\n",
       "      <td>-0.972854</td>\n",
       "      <td>-0.493143</td>\n",
       "      <td>-0.693462</td>\n",
       "      <td>1.436244</td>\n",
       "      <td>-1.041384</td>\n",
       "    </tr>\n",
       "    <tr>\n",
       "      <th>2016-11-22</th>\n",
       "      <td>0.508451</td>\n",
       "      <td>-0.392984</td>\n",
       "      <td>-0.714548</td>\n",
       "      <td>-0.271738</td>\n",
       "      <td>0.692955</td>\n",
       "      <td>0.872188</td>\n",
       "      <td>-0.319182</td>\n",
       "      <td>-0.893781</td>\n",
       "      <td>-0.524772</td>\n",
       "      <td>0.524266</td>\n",
       "      <td>...</td>\n",
       "      <td>-0.129406</td>\n",
       "      <td>-0.472057</td>\n",
       "      <td>-0.656561</td>\n",
       "      <td>-0.234837</td>\n",
       "      <td>-1.025570</td>\n",
       "      <td>-0.935953</td>\n",
       "      <td>-0.972854</td>\n",
       "      <td>-0.493143</td>\n",
       "      <td>-0.693462</td>\n",
       "      <td>1.436244</td>\n",
       "    </tr>\n",
       "    <tr>\n",
       "      <th>2016-11-23</th>\n",
       "      <td>0.893274</td>\n",
       "      <td>0.508451</td>\n",
       "      <td>-0.392984</td>\n",
       "      <td>-0.714548</td>\n",
       "      <td>-0.271738</td>\n",
       "      <td>0.692955</td>\n",
       "      <td>0.872188</td>\n",
       "      <td>-0.319182</td>\n",
       "      <td>-0.893781</td>\n",
       "      <td>-0.524772</td>\n",
       "      <td>...</td>\n",
       "      <td>0.761486</td>\n",
       "      <td>-0.129406</td>\n",
       "      <td>-0.472057</td>\n",
       "      <td>-0.656561</td>\n",
       "      <td>-0.234837</td>\n",
       "      <td>-1.025570</td>\n",
       "      <td>-0.935953</td>\n",
       "      <td>-0.972854</td>\n",
       "      <td>-0.493143</td>\n",
       "      <td>-0.693462</td>\n",
       "    </tr>\n",
       "    <tr>\n",
       "      <th>2016-11-24</th>\n",
       "      <td>1.288641</td>\n",
       "      <td>0.893274</td>\n",
       "      <td>0.508451</td>\n",
       "      <td>-0.392984</td>\n",
       "      <td>-0.714548</td>\n",
       "      <td>-0.271738</td>\n",
       "      <td>0.692955</td>\n",
       "      <td>0.872188</td>\n",
       "      <td>-0.319182</td>\n",
       "      <td>-0.893781</td>\n",
       "      <td>...</td>\n",
       "      <td>0.229059</td>\n",
       "      <td>0.761486</td>\n",
       "      <td>-0.129406</td>\n",
       "      <td>-0.472057</td>\n",
       "      <td>-0.656561</td>\n",
       "      <td>-0.234837</td>\n",
       "      <td>-1.025570</td>\n",
       "      <td>-0.935953</td>\n",
       "      <td>-0.972854</td>\n",
       "      <td>-0.493143</td>\n",
       "    </tr>\n",
       "    <tr>\n",
       "      <th>2016-11-25</th>\n",
       "      <td>0.181615</td>\n",
       "      <td>1.288641</td>\n",
       "      <td>0.893274</td>\n",
       "      <td>0.508451</td>\n",
       "      <td>-0.392984</td>\n",
       "      <td>-0.714548</td>\n",
       "      <td>-0.271738</td>\n",
       "      <td>0.692955</td>\n",
       "      <td>0.872188</td>\n",
       "      <td>-0.319182</td>\n",
       "      <td>...</td>\n",
       "      <td>-0.545859</td>\n",
       "      <td>0.229059</td>\n",
       "      <td>0.761486</td>\n",
       "      <td>-0.129406</td>\n",
       "      <td>-0.472057</td>\n",
       "      <td>-0.656561</td>\n",
       "      <td>-0.234837</td>\n",
       "      <td>-1.025570</td>\n",
       "      <td>-0.935953</td>\n",
       "      <td>-0.972854</td>\n",
       "    </tr>\n",
       "  </tbody>\n",
       "</table>\n",
       "<p>5 rows × 31 columns</p>\n",
       "</div>"
      ],
      "text/plain": [
       "               USAGE  USAGE_lag1  USAGE_lag2  USAGE_lag3  USAGE_lag4  \\\n",
       "TIMESTAMP                                                              \n",
       "2016-11-21 -0.392984   -0.714548   -0.271738    0.692955    0.872188   \n",
       "2016-11-22  0.508451   -0.392984   -0.714548   -0.271738    0.692955   \n",
       "2016-11-23  0.893274    0.508451   -0.392984   -0.714548   -0.271738   \n",
       "2016-11-24  1.288641    0.893274    0.508451   -0.392984   -0.714548   \n",
       "2016-11-25  0.181615    1.288641    0.893274    0.508451   -0.392984   \n",
       "\n",
       "            USAGE_lag5  USAGE_lag6  USAGE_lag7  USAGE_lag8  USAGE_lag9  ...  \\\n",
       "TIMESTAMP                                                               ...   \n",
       "2016-11-21   -0.319182   -0.893781   -0.524772    0.524266   -0.282281  ...   \n",
       "2016-11-22    0.872188   -0.319182   -0.893781   -0.524772    0.524266  ...   \n",
       "2016-11-23    0.692955    0.872188   -0.319182   -0.893781   -0.524772  ...   \n",
       "2016-11-24   -0.271738    0.692955    0.872188   -0.319182   -0.893781  ...   \n",
       "2016-11-25   -0.714548   -0.271738    0.692955    0.872188   -0.319182  ...   \n",
       "\n",
       "            USAGE_lag21  USAGE_lag22  USAGE_lag23  USAGE_lag24  USAGE_lag25  \\\n",
       "TIMESTAMP                                                                     \n",
       "2016-11-21    -0.472057    -0.656561    -0.234837    -1.025570    -0.935953   \n",
       "2016-11-22    -0.129406    -0.472057    -0.656561    -0.234837    -1.025570   \n",
       "2016-11-23     0.761486    -0.129406    -0.472057    -0.656561    -0.234837   \n",
       "2016-11-24     0.229059     0.761486    -0.129406    -0.472057    -0.656561   \n",
       "2016-11-25    -0.545859     0.229059     0.761486    -0.129406    -0.472057   \n",
       "\n",
       "            USAGE_lag26  USAGE_lag27  USAGE_lag28  USAGE_lag29  USAGE_lag30  \n",
       "TIMESTAMP                                                                    \n",
       "2016-11-21    -0.972854    -0.493143    -0.693462     1.436244    -1.041384  \n",
       "2016-11-22    -0.935953    -0.972854    -0.493143    -0.693462     1.436244  \n",
       "2016-11-23    -1.025570    -0.935953    -0.972854    -0.493143    -0.693462  \n",
       "2016-11-24    -0.234837    -1.025570    -0.935953    -0.972854    -0.493143  \n",
       "2016-11-25    -0.656561    -0.234837    -1.025570    -0.935953    -0.972854  \n",
       "\n",
       "[5 rows x 31 columns]"
      ]
     },
     "execution_count": 14,
     "metadata": {},
     "output_type": "execute_result"
    }
   ],
   "source": [
    "X_train_scaled.head()"
   ]
  },
  {
   "cell_type": "code",
   "execution_count": 15,
   "id": "2d049e68-58e2-4ee0-addf-d8048c473340",
   "metadata": {},
   "outputs": [],
   "source": [
    "y_train_scaled = scale_predictor(y_train)\n",
    "y_test_scaled = scale_predictor(y_test)\n",
    "y_val_scaled = scale_predictor(y_val)"
   ]
  },
  {
   "cell_type": "code",
   "execution_count": 16,
   "id": "8dbabe85-4532-4100-a42f-d03f802c06e8",
   "metadata": {},
   "outputs": [
    {
     "data": {
      "text/plain": [
       "array([[-0.48065018],\n",
       "       [ 0.22813367],\n",
       "       [ 0.64815373],\n",
       "       [ 1.06817379],\n",
       "       [ 0.0443749 ]])"
      ]
     },
     "execution_count": 16,
     "metadata": {},
     "output_type": "execute_result"
    }
   ],
   "source": [
    "y_train_scaled[:5]"
   ]
  },
  {
   "cell_type": "markdown",
   "id": "5e6747b8-7d17-485c-8a07-7de99ce7351c",
   "metadata": {},
   "source": [
    "## Baseline Logistic Regression"
   ]
  },
  {
   "cell_type": "code",
   "execution_count": 17,
   "id": "d0f04d35-31fb-416e-90a0-aa7c12155faa",
   "metadata": {},
   "outputs": [],
   "source": [
    "from sklearn.linear_model import LinearRegression\n",
    "from sklearn.metrics import mean_squared_error\n",
    "import matplotlib.pyplot as plt\n",
    "plt.style.use('fivethirtyeight')"
   ]
  },
  {
   "cell_type": "code",
   "execution_count": 18,
   "id": "4f4c6c2e-d0a8-4dd2-a34c-64a7ac7fd6ca",
   "metadata": {},
   "outputs": [
    {
     "name": "stdout",
     "output_type": "stream",
     "text": [
      "RMSE: 0.25827218556108217\n"
     ]
    }
   ],
   "source": [
    "reg = LinearRegression()\n",
    "reg.fit(X_train_scaled, y_train_scaled)\n",
    "\n",
    "y_pred = reg.predict(X_test_scaled)\n",
    "y_pred_inverse = y_scaler.inverse_transform(y_pred)\n",
    "\n",
    "rmse = np.sqrt(mean_squared_error(y_pred_inverse, y_test))\n",
    "print(f\"RMSE: {rmse}\")"
   ]
  },
  {
   "cell_type": "code",
   "execution_count": 19,
   "id": "676584b7-99d1-464c-8b94-6c327d574c25",
   "metadata": {},
   "outputs": [
    {
     "data": {
      "image/png": "[encoded data removed]",
      "text/plain": [
       "<Figure size 1080x360 with 1 Axes>"
      ]
     },
     "metadata": {},
     "output_type": "display_data"
    }
   ],
   "source": [
    "plt.figure(figsize=(15,5))\n",
    "linewidth = 2\n",
    "plt.plot(df_test[response_col].index, y_test, label='Actual', linewidth=linewidth)\n",
    "plt.plot(df_test[response_col].index, y_pred_inverse, label='Predicted', linewidth=linewidth)\n",
    "plt.title('Actual vs. Predicted')\n",
    "plt.ylabel('Cost')\n",
    "plt.legend();"
   ]
  },
  {
   "cell_type": "code",
   "execution_count": 20,
   "id": "990dda74-a526-4051-9a71-58dc4c823051",
   "metadata": {},
   "outputs": [
    {
     "data": {
      "text/plain": [
       "-12.034533135961947"
      ]
     },
     "execution_count": 20,
     "metadata": {},
     "output_type": "execute_result"
    }
   ],
   "source": [
    "(y_pred_inverse - y_test).sum()"
   ]
  },
  {
   "cell_type": "markdown",
   "id": "36c3e148-518e-46c2-a2cd-4eefeebd1886",
   "metadata": {},
   "source": [
    "### Optimizing Linear Regression with Optuna"
   ]
  },
  {
   "cell_type": "markdown",
   "id": "0a35e95d-a358-4a18-a651-15424c84d529",
   "metadata": {},
   "source": [
    "*Baseline*"
   ]
  },
  {
   "cell_type": "code",
   "execution_count": 21,
   "id": "c2e17778-5208-4a00-ac2f-587a74fdd652",
   "metadata": {},
   "outputs": [
    {
     "name": "stdout",
     "output_type": "stream",
     "text": [
      "RMSE: 0.18607516679932304\n"
     ]
    }
   ],
   "source": [
    "from sklearn.model_selection import cross_val_score\n",
    "\n",
    "def objective():\n",
    "    \n",
    "    reg = LinearRegression()\n",
    "    return cross_val_score(reg, X_train_scaled, y_train_scaled, n_jobs=-1, cv=3, scoring='neg_root_mean_squared_error').mean()\n",
    "\n",
    "print('RMSE: {}'.format(objective()*-1))"
   ]
  },
  {
   "cell_type": "code",
   "execution_count": 22,
   "id": "a89a5ecf-88db-4161-99d5-385bf4b324c6",
   "metadata": {},
   "outputs": [],
   "source": [
    "from sklearn.ensemble import ExtraTreesRegressor"
   ]
  },
  {
   "cell_type": "code",
   "execution_count": 23,
   "id": "fe33dbc3-cf66-4711-ac17-e85f7efd018e",
   "metadata": {},
   "outputs": [
    {
     "name": "stdout",
     "output_type": "stream",
     "text": [
      "RMSE: 0.19501748911749697\n"
     ]
    }
   ],
   "source": [
    "def objective():\n",
    "    \n",
    "    reg = ExtraTreesRegressor()\n",
    "    return cross_val_score(reg, X_train_scaled, y_train_scaled, n_jobs=-1, cv=3, scoring='neg_root_mean_squared_error').mean()\n",
    "\n",
    "print('RMSE: {}'.format(objective()*-1))"
   ]
  },
  {
   "cell_type": "code",
   "execution_count": 24,
   "id": "06dec62d-80d0-4d41-a556-1690e4d011ca",
   "metadata": {},
   "outputs": [
    {
     "data": {
      "text/plain": [
       "dict_keys(['bootstrap', 'ccp_alpha', 'criterion', 'max_depth', 'max_features', 'max_leaf_nodes', 'max_samples', 'min_impurity_decrease', 'min_samples_leaf', 'min_samples_split', 'min_weight_fraction_leaf', 'n_estimators', 'n_jobs', 'oob_score', 'random_state', 'verbose', 'warm_start'])"
      ]
     },
     "execution_count": 24,
     "metadata": {},
     "output_type": "execute_result"
    }
   ],
   "source": [
    "ExtraTreesRegressor().get_params().keys()"
   ]
  },
  {
   "cell_type": "code",
   "execution_count": 25,
   "id": "ffd60cd2-383c-4117-895e-97deb18c7721",
   "metadata": {
    "tags": []
   },
   "outputs": [
    {
     "name": "stdout",
     "output_type": "stream",
     "text": [
      "RMSE: 0.18602149227502895\n",
      "Best hyperparameters: {'n_estimators': 157, 'max_depth': 7, 'min_samples_split': 10, 'bootstrap': False, 'min_samples_leaf': 1}\n"
     ]
    }
   ],
   "source": [
    "# param_grid = {\n",
    "#     'n_estimators': [int(x) for x in np.arange(start = 100, stop = 2100, step = 100)],\n",
    "#     'criterion': ['mse', 'mae'],\n",
    "#     'max_depth': [2,8,16,32,50],\n",
    "#     'min_sample_split': [2,4,6],\n",
    "#     'min_sample_leaf': [1,2],\n",
    "#     #'oob_score': [True, False],\n",
    "#     'max_features': ['auto','sqrt','log2'],    \n",
    "#     'bootstrap': [True, False],\n",
    "#     'warm_start': [True, False],\n",
    "# }\n",
    "\n",
    "def objective(trial):\n",
    "    \n",
    "    #n_estimators = trail.suggest_int('n_estimators', 100, 2000 )\n",
    "    param_grid = {\n",
    "        'n_estimators': trial.suggest_int('n_estimators', 100, 2000),\n",
    "        'max_depth': trial.suggest_int('max_depth', 2, 50),\n",
    "        'min_samples_split': trial.suggest_int('min_samples_split', 2, 10),\n",
    "        'bootstrap': trial.suggest_categorical('bootstrap', [True, False]),\n",
    "        'min_samples_leaf': trial.suggest_int('min_samples_leaf', 1, 2)\n",
    "    }\n",
    "    \n",
    "    reg = ExtraTreesRegressor()\n",
    "    reg.set_params(**param_grid)\n",
    "    return cross_val_score(reg, X_train_scaled, y_train_scaled, n_jobs=-1, cv=3, scoring='neg_root_mean_squared_error').mean() * -1\n",
    "\n",
    "study = optuna.create_study(direction='minimize')\n",
    "study.optimize(objective, n_trials=100)\n",
    "\n",
    "trial = study.best_trial\n",
    "\n",
    "print('RMSE: {}'.format(trial.value))\n",
    "print(\"Best hyperparameters: {}\".format(trial.params))"
   ]
  },
  {
   "cell_type": "markdown",
   "id": "29ee571b-86e8-4ee8-a1da-d17e3acceca1",
   "metadata": {},
   "source": [
    "**Looking at the results**"
   ]
  },
  {
   "cell_type": "code",
   "execution_count": 26,
   "id": "e986670a-8560-4223-a6b1-4047306c106b",
   "metadata": {},
   "outputs": [
    {
     "data": {
      "text/html": [
       "<iframe\n",
       "    scrolling=\"no\"\n",
       "    width=\"100%\"\n",
       "    height=\"545px\"\n",
       "    src=\"iframe_figures/figure_26.html\"\n",
       "    frameborder=\"0\"\n",
       "    allowfullscreen\n",
       "></iframe>\n"
      ]
     },
     "metadata": {},
     "output_type": "display_data"
    }
   ],
   "source": [
    "optuna.visualization.plot_optimization_history(study)"
   ]
  },
  {
   "cell_type": "code",
   "execution_count": 27,
   "id": "b8689152-bfd5-4924-a5c8-85dec9c396e5",
   "metadata": {},
   "outputs": [
    {
     "data": {
      "text/html": [
       "<iframe\n",
       "    scrolling=\"no\"\n",
       "    width=\"1520px\"\n",
       "    height=\"545px\"\n",
       "    src=\"iframe_figures/figure_27.html\"\n",
       "    frameborder=\"0\"\n",
       "    allowfullscreen\n",
       "></iframe>\n"
      ]
     },
     "metadata": {},
     "output_type": "display_data"
    }
   ],
   "source": [
    "optuna.visualization.plot_slice(study)"
   ]
  },
  {
   "cell_type": "markdown",
   "id": "fa876c9e-1be2-441f-8f89-6e3ce5fea880",
   "metadata": {},
   "source": [
    "Combining together"
   ]
  },
  {
   "cell_type": "code",
   "execution_count": 28,
   "id": "27e8171c-3ef6-4888-aab3-31688894f764",
   "metadata": {},
   "outputs": [
    {
     "name": "stdout",
     "output_type": "stream",
     "text": [
      "RMSE: 0.2709020684776325\n"
     ]
    }
   ],
   "source": [
    "reg = ExtraTreesRegressor()\n",
    "reg.set_params(**trial.params)\n",
    "reg.fit(X_train_scaled, y_train_scaled.ravel())\n",
    "\n",
    "y_pred = reg.predict(X_test_scaled)\n",
    "y_pred_inverse = y_scaler.inverse_transform(y_pred.reshape(-1,1))\n",
    "\n",
    "rmse = np.sqrt(mean_squared_error(y_pred_inverse, y_test))\n",
    "print(f\"RMSE: {rmse}\")"
   ]
  },
  {
   "cell_type": "code",
   "execution_count": 29,
   "id": "6420c632-af1a-4320-ab4b-22fae9639dd7",
   "metadata": {},
   "outputs": [
    {
     "data": {
      "image/png": "[encoded data removed]",
      "text/plain": [
       "<Figure size 1080x360 with 1 Axes>"
      ]
     },
     "metadata": {},
     "output_type": "display_data"
    }
   ],
   "source": [
    "plt.figure(figsize=(15,5))\n",
    "linewidth = 2\n",
    "plt.plot(df_test[response_col].index, y_test, label='Actual', linewidth=linewidth)\n",
    "plt.plot(df_test[response_col].index, y_pred_inverse, label='Predicted', linewidth=linewidth)\n",
    "plt.title('Actual vs. Predicted')\n",
    "plt.ylabel('Cost')\n",
    "plt.legend();"
   ]
  },
  {
   "cell_type": "code",
   "execution_count": 30,
   "id": "262714b0-8a9a-4a83-93c8-085f99c9e35f",
   "metadata": {},
   "outputs": [
    {
     "data": {
      "text/plain": [
       "-12.597565333725619"
      ]
     },
     "execution_count": 30,
     "metadata": {},
     "output_type": "execute_result"
    }
   ],
   "source": [
    "(y_pred_inverse - y_test).sum()"
   ]
  },
  {
   "cell_type": "markdown",
   "id": "11250bff-e469-4c91-8b15-2a1307bbebc5",
   "metadata": {},
   "source": [
    "### Optimizing XGBoost"
   ]
  },
  {
   "cell_type": "code",
   "execution_count": 31,
   "id": "b10833b4-7de6-4b0e-807f-7bdb08815b42",
   "metadata": {},
   "outputs": [],
   "source": [
    "import xgboost as xgb\n",
    "xgb.set_config(verbosity=0)"
   ]
  },
  {
   "cell_type": "code",
   "execution_count": 40,
   "id": "88b9977a-56fb-415c-97df-9bcb74d9e086",
   "metadata": {},
   "outputs": [],
   "source": [
    "def objective(trial):\n",
    "\n",
    "    param = {\n",
    "        \"silent\": 1,\n",
    "        \"objective\": \"reg:squarederror\",\n",
    "        \"eval_metric\": \"rmse\",\n",
    "        \"booster\": trial.suggest_categorical(\"booster\", [\"gbtree\", \"gblinear\", \"dart\"]),\n",
    "        \"learning_rate\": trial.suggest_float(\"learning_rate\", 0.01, 0.5),\n",
    "        \"lambda\": trial.suggest_float(\"lambda\", 0.0, 1.0),\n",
    "        \"max_depth\": trial.suggest_int(\"max_depth\", 2, 30),\n",
    "        \"n_estimators\" : trial.suggest_int(\"n_estimators\", 300, 2000)\n",
    "    }\n",
    "        \n",
    "    model = xgb.XGBRegressor(verbose=0, **param)\n",
    "    model.fit(X_train_scaled, \n",
    "              y_train_scaled,\n",
    "              eval_set=[(X_val_scaled, y_val_scaled)], \n",
    "              early_stopping_rounds=10,\n",
    "              eval_metric='rmse',\n",
    "              verbose=0)\n",
    "    y_pred = model.predict(X_test)\n",
    "    \n",
    "    y_pred_inverse = y_scaler.inverse_transform(y_pred.reshape(-1,1))\n",
    "    rmse = np.sqrt(mean_squared_error(y_pred_inverse, y_test))\n",
    "    return rmse"
   ]
  },
  {
   "cell_type": "code",
   "execution_count": 41,
   "id": "78b7e522-c0ea-494a-927a-21629475d378",
   "metadata": {
    "tags": []
   },
   "outputs": [
    {
     "name": "stdout",
     "output_type": "stream",
     "text": [
      "RMSE: 3.921831151695584\n",
      "Best hyperparameters: {'booster': 'dart', 'learning_rate': 0.37656164041135254, 'lambda': 0.8404659354719586, 'max_depth': 24, 'n_estimators': 970}\n"
     ]
    }
   ],
   "source": [
    "study = optuna.create_study(direction='minimize')\n",
    "study.optimize(objective, n_trials=100)\n",
    "\n",
    "trial = study.best_trial\n",
    "print('RMSE: {}'.format(trial.value))\n",
    "print(\"Best hyperparameters: {}\".format(trial.params))"
   ]
  },
  {
   "cell_type": "code",
   "execution_count": 42,
   "id": "96b1291d-6460-4c45-8cdb-fe51ee57fb30",
   "metadata": {
    "tags": []
   },
   "outputs": [
    {
     "name": "stdout",
     "output_type": "stream",
     "text": [
      "RMSE: 0.25052678676639956\n"
     ]
    }
   ],
   "source": [
    "reg = xgb.XGBRegressor(verbose=0, **trial.params, eval_metric='reg:squarederror')\n",
    "reg.fit(X_train_scaled, \n",
    "        y_train_scaled,\n",
    "        eval_set=[(X_val_scaled, y_val_scaled)], \n",
    "        early_stopping_rounds=5,\n",
    "        eval_metric='rmse',\n",
    "        verbose=0)\n",
    "\n",
    "y_pred = reg.predict(X_test_scaled)\n",
    "y_pred_inverse = y_scaler.inverse_transform(y_pred.reshape(-1,1))\n",
    "\n",
    "rmse = np.sqrt(mean_squared_error(y_pred_inverse, y_test))\n",
    "print(f\"RMSE: {rmse}\")"
   ]
  },
  {
   "cell_type": "code",
   "execution_count": 43,
   "id": "f1b79887-dee2-4976-a237-4b9d3996aa00",
   "metadata": {},
   "outputs": [
    {
     "data": {
      "image/png": "[encoded data removed]",
      "text/plain": [
       "<Figure size 1080x360 with 1 Axes>"
      ]
     },
     "metadata": {},
     "output_type": "display_data"
    }
   ],
   "source": [
    "plt.figure(figsize=(15,5))\n",
    "linewidth = 2\n",
    "plt.plot(df_test[response_col].index, y_test, label='Actual', linewidth=linewidth)\n",
    "plt.plot(df_test[response_col].index, y_pred_inverse, label='Predicted', linewidth=linewidth)\n",
    "plt.title('Actual vs. Predicted')\n",
    "plt.ylabel('Cost')\n",
    "plt.legend();"
   ]
  },
  {
   "cell_type": "code",
   "execution_count": 44,
   "id": "d823547e-79b3-47e4-9211-a490d7d0a532",
   "metadata": {},
   "outputs": [
    {
     "data": {
      "text/plain": [
       "-9.885002765655518"
      ]
     },
     "execution_count": 44,
     "metadata": {},
     "output_type": "execute_result"
    }
   ],
   "source": [
    "(y_pred_inverse - y_test).sum()"
   ]
  },
  {
   "cell_type": "code",
   "execution_count": 45,
   "id": "5cf61795-ee70-4090-a33b-1bcc1cd72ef6",
   "metadata": {},
   "outputs": [
    {
     "data": {
      "text/html": [
       "<iframe\n",
       "    scrolling=\"no\"\n",
       "    width=\"1520px\"\n",
       "    height=\"545px\"\n",
       "    src=\"iframe_figures/figure_45.html\"\n",
       "    frameborder=\"0\"\n",
       "    allowfullscreen\n",
       "></iframe>\n"
      ]
     },
     "metadata": {},
     "output_type": "display_data"
    }
   ],
   "source": [
    "optuna.visualization.plot_slice(study)"
   ]
  },
  {
   "cell_type": "code",
   "execution_count": 46,
   "id": "996a512c-7470-43f0-b574-c74b45b9405f",
   "metadata": {},
   "outputs": [
    {
     "data": {
      "text/html": [
       "<iframe\n",
       "    scrolling=\"no\"\n",
       "    width=\"100%\"\n",
       "    height=\"545px\"\n",
       "    src=\"iframe_figures/figure_46.html\"\n",
       "    frameborder=\"0\"\n",
       "    allowfullscreen\n",
       "></iframe>\n"
      ]
     },
     "metadata": {},
     "output_type": "display_data"
    }
   ],
   "source": [
    "optuna.visualization.plot_optimization_history(study)"
   ]
  }
 ],
 "metadata": {
  "kernelspec": {
   "display_name": "Python 3",
   "language": "python",
   "name": "python3"
  },
  "language_info": {
   "codemirror_mode": {
    "name": "ipython",
    "version": 3
   },
   "file_extension": ".py",
   "mimetype": "text/x-python",
   "name": "python",
   "nbconvert_exporter": "python",
   "pygments_lexer": "ipython3",
   "version": "3.8.8"
  }
 },
 "nbformat": 4,
 "nbformat_minor": 5
}
